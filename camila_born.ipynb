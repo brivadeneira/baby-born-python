{
 "cells": [
  {
   "cell_type": "code",
   "execution_count": null,
   "id": "a87e9869-7a3a-435f-af3f-1c20378e6e58",
   "metadata": {},
   "outputs": [],
   "source": [
    "! pip install ipywidgets\n",
    "! jupyter nbextension enable --py widgetsnbextension"
   ]
  },
  {
   "cell_type": "code",
   "execution_count": null,
   "id": "bccec8c8-2ab4-445f-95eb-1f75bec2e11e",
   "metadata": {},
   "outputs": [],
   "source": [
    "import time\n",
    "\n",
    "import ipywidgets as widgets\n",
    "from IPython.display import display\n",
    "from ipywidgets import Layout"
   ]
  },
  {
   "cell_type": "code",
   "execution_count": null,
   "id": "0d9b70ea-fff7-4565-8f56-2a5a6ed48a0a",
   "metadata": {},
   "outputs": [],
   "source": [
    "months = ['Sep 2020', 'Oct 2010', 'Nov 2020', \n",
    "          'Dec 2020', 'Jan 2021', 'Feb 2021', \n",
    "          'Mar 2021', 'Apr 2021', 'May 2021']\n",
    "\n",
    "for i, month in enumerate(months):\n",
    "    w = widgets.IntProgress(\n",
    "        value=i,\n",
    "        min=0,\n",
    "        max=8,\n",
    "        description=month,\n",
    "        bar_style='success',\n",
    "        style={'bar_color': 'pink'},\n",
    "        orientation='horizontal'\n",
    "    )\n",
    "    display(w)\n",
    "    time.sleep(0.5)\n",
    "\n",
    "\n",
    "first_hello = 'Hello world! I am the little Camila'\n",
    "\n",
    "print()\n",
    "print('👶🌈 ' + first_hello)\n",
    "print()\n",
    "\n",
    "widgets.SelectionSlider(\n",
    "    options=['live 👶', 'eat 🍼', 'go to sleep 💤', 'be🌈awesome', 'go with 👧', 'go with 👦'],\n",
    "    value='live 👶',\n",
    "    description='I can',\n",
    "    disabled=False,\n",
    "    continuous_update=False,\n",
    "    orientation='horizontal',\n",
    "    readout=True,\n",
    "    layout=Layout(width='30%', height='80px')\n",
    ")"
   ]
  }
 ],
 "metadata": {
  "kernelspec": {
   "display_name": "Python 3",
   "language": "python",
   "name": "python3"
  },
  "language_info": {
   "codemirror_mode": {
    "name": "ipython",
    "version": 3
   },
   "file_extension": ".py",
   "mimetype": "text/x-python",
   "name": "python",
   "nbconvert_exporter": "python",
   "pygments_lexer": "ipython3",
   "version": "3.8.8"
  }
 },
 "nbformat": 4,
 "nbformat_minor": 5
}
